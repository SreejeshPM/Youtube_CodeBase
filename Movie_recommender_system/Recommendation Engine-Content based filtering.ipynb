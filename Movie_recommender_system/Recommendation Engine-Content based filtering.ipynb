{
 "cells": [
  {
   "cell_type": "code",
   "execution_count": 609,
   "id": "cc15b712",
   "metadata": {},
   "outputs": [],
   "source": [
    "import pandas as pd\n",
    "import numpy as np\n",
    "from sklearn.neighbors import NearestNeighbors"
   ]
  },
  {
   "cell_type": "code",
   "execution_count": 610,
   "id": "52fa5953",
   "metadata": {},
   "outputs": [],
   "source": [
    "movies_df = pd.read_csv('data/movies.csv')\n",
    "ratings_df = pd.read_csv('data/ratings.csv')"
   ]
  },
  {
   "cell_type": "code",
   "execution_count": 611,
   "id": "dc1cadae",
   "metadata": {},
   "outputs": [
    {
     "data": {
      "text/html": [
       "<div>\n",
       "<style scoped>\n",
       "    .dataframe tbody tr th:only-of-type {\n",
       "        vertical-align: middle;\n",
       "    }\n",
       "\n",
       "    .dataframe tbody tr th {\n",
       "        vertical-align: top;\n",
       "    }\n",
       "\n",
       "    .dataframe thead th {\n",
       "        text-align: right;\n",
       "    }\n",
       "</style>\n",
       "<table border=\"1\" class=\"dataframe\">\n",
       "  <thead>\n",
       "    <tr style=\"text-align: right;\">\n",
       "      <th></th>\n",
       "      <th>movieId</th>\n",
       "      <th>title</th>\n",
       "      <th>genres</th>\n",
       "    </tr>\n",
       "  </thead>\n",
       "  <tbody>\n",
       "    <tr>\n",
       "      <th>9737</th>\n",
       "      <td>193581</td>\n",
       "      <td>Black Butler: Book of the Atlantic (2017)</td>\n",
       "      <td>Action|Animation|Comedy|Fantasy</td>\n",
       "    </tr>\n",
       "    <tr>\n",
       "      <th>9738</th>\n",
       "      <td>193583</td>\n",
       "      <td>No Game No Life: Zero (2017)</td>\n",
       "      <td>Animation|Comedy|Fantasy</td>\n",
       "    </tr>\n",
       "    <tr>\n",
       "      <th>9739</th>\n",
       "      <td>193585</td>\n",
       "      <td>Flint (2017)</td>\n",
       "      <td>Drama</td>\n",
       "    </tr>\n",
       "    <tr>\n",
       "      <th>9740</th>\n",
       "      <td>193587</td>\n",
       "      <td>Bungo Stray Dogs: Dead Apple (2018)</td>\n",
       "      <td>Action|Animation</td>\n",
       "    </tr>\n",
       "    <tr>\n",
       "      <th>9741</th>\n",
       "      <td>193609</td>\n",
       "      <td>Andrew Dice Clay: Dice Rules (1991)</td>\n",
       "      <td>Comedy</td>\n",
       "    </tr>\n",
       "  </tbody>\n",
       "</table>\n",
       "</div>"
      ],
      "text/plain": [
       "      movieId                                      title  \\\n",
       "9737   193581  Black Butler: Book of the Atlantic (2017)   \n",
       "9738   193583               No Game No Life: Zero (2017)   \n",
       "9739   193585                               Flint (2017)   \n",
       "9740   193587        Bungo Stray Dogs: Dead Apple (2018)   \n",
       "9741   193609        Andrew Dice Clay: Dice Rules (1991)   \n",
       "\n",
       "                               genres  \n",
       "9737  Action|Animation|Comedy|Fantasy  \n",
       "9738         Animation|Comedy|Fantasy  \n",
       "9739                            Drama  \n",
       "9740                 Action|Animation  \n",
       "9741                           Comedy  "
      ]
     },
     "execution_count": 611,
     "metadata": {},
     "output_type": "execute_result"
    }
   ],
   "source": [
    "movies_df.tail()"
   ]
  },
  {
   "cell_type": "code",
   "execution_count": 612,
   "id": "07f560ed",
   "metadata": {},
   "outputs": [],
   "source": [
    "movie_rating = pd.merge(movies_df, ratings_df,on='movieId')"
   ]
  },
  {
   "cell_type": "code",
   "execution_count": 613,
   "id": "f95fbdb0",
   "metadata": {},
   "outputs": [],
   "source": [
    "cols_2_drop = ['title','timestamp','userId','rating']\n",
    "movie_rating_clean = movie_rating.drop(cols_2_drop,axis=1)"
   ]
  },
  {
   "cell_type": "code",
   "execution_count": 614,
   "id": "5b5573cb",
   "metadata": {},
   "outputs": [
    {
     "data": {
      "text/plain": [
       "array([     1,      2,      3, ..., 193585, 193587, 193609], dtype=int64)"
      ]
     },
     "execution_count": 614,
     "metadata": {},
     "output_type": "execute_result"
    }
   ],
   "source": [
    "movie_rating_clean['movieId'].unique()"
   ]
  },
  {
   "cell_type": "code",
   "execution_count": 615,
   "id": "9753ce4e",
   "metadata": {},
   "outputs": [],
   "source": [
    "import ast\n",
    "from itertools import combinations"
   ]
  },
  {
   "cell_type": "code",
   "execution_count": 616,
   "id": "5931c57e",
   "metadata": {},
   "outputs": [],
   "source": [
    "# movie_rating_clean['genre_list'] = movie_rating_clean['genres'].apply(lambda x: [x])"
   ]
  },
  {
   "cell_type": "code",
   "execution_count": 617,
   "id": "54794f05",
   "metadata": {},
   "outputs": [],
   "source": [
    "# movie_rating_clean.drop('genres', axis=1, inplace=True)"
   ]
  },
  {
   "cell_type": "code",
   "execution_count": 618,
   "id": "6f005db5",
   "metadata": {},
   "outputs": [
    {
     "data": {
      "text/html": [
       "<div>\n",
       "<style scoped>\n",
       "    .dataframe tbody tr th:only-of-type {\n",
       "        vertical-align: middle;\n",
       "    }\n",
       "\n",
       "    .dataframe tbody tr th {\n",
       "        vertical-align: top;\n",
       "    }\n",
       "\n",
       "    .dataframe thead th {\n",
       "        text-align: right;\n",
       "    }\n",
       "</style>\n",
       "<table border=\"1\" class=\"dataframe\">\n",
       "  <thead>\n",
       "    <tr style=\"text-align: right;\">\n",
       "      <th></th>\n",
       "      <th>movieId</th>\n",
       "      <th>genres</th>\n",
       "    </tr>\n",
       "  </thead>\n",
       "  <tbody>\n",
       "    <tr>\n",
       "      <th>0</th>\n",
       "      <td>1</td>\n",
       "      <td>Adventure|Animation|Children|Comedy|Fantasy</td>\n",
       "    </tr>\n",
       "    <tr>\n",
       "      <th>1</th>\n",
       "      <td>1</td>\n",
       "      <td>Adventure|Animation|Children|Comedy|Fantasy</td>\n",
       "    </tr>\n",
       "    <tr>\n",
       "      <th>2</th>\n",
       "      <td>1</td>\n",
       "      <td>Adventure|Animation|Children|Comedy|Fantasy</td>\n",
       "    </tr>\n",
       "    <tr>\n",
       "      <th>3</th>\n",
       "      <td>1</td>\n",
       "      <td>Adventure|Animation|Children|Comedy|Fantasy</td>\n",
       "    </tr>\n",
       "    <tr>\n",
       "      <th>4</th>\n",
       "      <td>1</td>\n",
       "      <td>Adventure|Animation|Children|Comedy|Fantasy</td>\n",
       "    </tr>\n",
       "  </tbody>\n",
       "</table>\n",
       "</div>"
      ],
      "text/plain": [
       "   movieId                                       genres\n",
       "0        1  Adventure|Animation|Children|Comedy|Fantasy\n",
       "1        1  Adventure|Animation|Children|Comedy|Fantasy\n",
       "2        1  Adventure|Animation|Children|Comedy|Fantasy\n",
       "3        1  Adventure|Animation|Children|Comedy|Fantasy\n",
       "4        1  Adventure|Animation|Children|Comedy|Fantasy"
      ]
     },
     "execution_count": 618,
     "metadata": {},
     "output_type": "execute_result"
    }
   ],
   "source": [
    "movie_rating_clean.head()"
   ]
  },
  {
   "cell_type": "code",
   "execution_count": 619,
   "id": "a6bf4729",
   "metadata": {},
   "outputs": [
    {
     "data": {
      "text/plain": [
       "1314    Drama|Romance\n",
       "1315    Drama|Romance\n",
       "1316    Drama|Romance\n",
       "1317    Drama|Romance\n",
       "1318    Drama|Romance\n",
       "            ...      \n",
       "1385    Drama|Romance\n",
       "1386    Drama|Romance\n",
       "1387    Drama|Romance\n",
       "1388    Drama|Romance\n",
       "1389    Drama|Romance\n",
       "Name: genres, Length: 76, dtype: object"
      ]
     },
     "execution_count": 619,
     "metadata": {},
     "output_type": "execute_result"
    }
   ],
   "source": [
    "movie_rating_clean.loc[movie_rating_clean.movieId==25].genres"
   ]
  },
  {
   "cell_type": "code",
   "execution_count": 620,
   "id": "7473633b",
   "metadata": {},
   "outputs": [],
   "source": [
    "movie_rating_clean.drop_duplicates('movieId', keep='first', inplace=True)"
   ]
  },
  {
   "cell_type": "code",
   "execution_count": 621,
   "id": "ec669f55",
   "metadata": {},
   "outputs": [],
   "source": [
    "# movie_rating_clean.set_index('movieId',inplace=True)"
   ]
  },
  {
   "cell_type": "code",
   "execution_count": 622,
   "id": "a42a3448",
   "metadata": {},
   "outputs": [],
   "source": [
    "movie_rating_clean.reset_index(drop=True,inplace=True)"
   ]
  },
  {
   "cell_type": "code",
   "execution_count": 623,
   "id": "fed76b2b",
   "metadata": {},
   "outputs": [
    {
     "data": {
      "text/html": [
       "<div>\n",
       "<style scoped>\n",
       "    .dataframe tbody tr th:only-of-type {\n",
       "        vertical-align: middle;\n",
       "    }\n",
       "\n",
       "    .dataframe tbody tr th {\n",
       "        vertical-align: top;\n",
       "    }\n",
       "\n",
       "    .dataframe thead th {\n",
       "        text-align: right;\n",
       "    }\n",
       "</style>\n",
       "<table border=\"1\" class=\"dataframe\">\n",
       "  <thead>\n",
       "    <tr style=\"text-align: right;\">\n",
       "      <th></th>\n",
       "      <th>movieId</th>\n",
       "      <th>genres</th>\n",
       "    </tr>\n",
       "  </thead>\n",
       "  <tbody>\n",
       "    <tr>\n",
       "      <th>9719</th>\n",
       "      <td>193581</td>\n",
       "      <td>Action|Animation|Comedy|Fantasy</td>\n",
       "    </tr>\n",
       "    <tr>\n",
       "      <th>9720</th>\n",
       "      <td>193583</td>\n",
       "      <td>Animation|Comedy|Fantasy</td>\n",
       "    </tr>\n",
       "    <tr>\n",
       "      <th>9721</th>\n",
       "      <td>193585</td>\n",
       "      <td>Drama</td>\n",
       "    </tr>\n",
       "    <tr>\n",
       "      <th>9722</th>\n",
       "      <td>193587</td>\n",
       "      <td>Action|Animation</td>\n",
       "    </tr>\n",
       "    <tr>\n",
       "      <th>9723</th>\n",
       "      <td>193609</td>\n",
       "      <td>Comedy</td>\n",
       "    </tr>\n",
       "  </tbody>\n",
       "</table>\n",
       "</div>"
      ],
      "text/plain": [
       "      movieId                           genres\n",
       "9719   193581  Action|Animation|Comedy|Fantasy\n",
       "9720   193583         Animation|Comedy|Fantasy\n",
       "9721   193585                            Drama\n",
       "9722   193587                 Action|Animation\n",
       "9723   193609                           Comedy"
      ]
     },
     "execution_count": 623,
     "metadata": {},
     "output_type": "execute_result"
    }
   ],
   "source": [
    "movie_rating_clean.tail()"
   ]
  },
  {
   "cell_type": "code",
   "execution_count": 624,
   "id": "27015026",
   "metadata": {},
   "outputs": [],
   "source": [
    "move_id_genre_df = movie_rating_clean.copy()"
   ]
  },
  {
   "cell_type": "code",
   "execution_count": 625,
   "id": "0f6ae13d",
   "metadata": {},
   "outputs": [],
   "source": [
    "movie_rating_clean = movie_rating_clean.drop('movieId', axis=1) # modelling data\n",
    "movie_rating_clean['genres'] = movie_rating_clean['genres'].apply(lambda x :x.replace('|',',').lower())"
   ]
  },
  {
   "cell_type": "code",
   "execution_count": 626,
   "id": "357676e8",
   "metadata": {},
   "outputs": [
    {
     "data": {
      "text/html": [
       "<div>\n",
       "<style scoped>\n",
       "    .dataframe tbody tr th:only-of-type {\n",
       "        vertical-align: middle;\n",
       "    }\n",
       "\n",
       "    .dataframe tbody tr th {\n",
       "        vertical-align: top;\n",
       "    }\n",
       "\n",
       "    .dataframe thead th {\n",
       "        text-align: right;\n",
       "    }\n",
       "</style>\n",
       "<table border=\"1\" class=\"dataframe\">\n",
       "  <thead>\n",
       "    <tr style=\"text-align: right;\">\n",
       "      <th></th>\n",
       "      <th>genres</th>\n",
       "    </tr>\n",
       "  </thead>\n",
       "  <tbody>\n",
       "    <tr>\n",
       "      <th>0</th>\n",
       "      <td>adventure,animation,children,comedy,fantasy</td>\n",
       "    </tr>\n",
       "    <tr>\n",
       "      <th>1</th>\n",
       "      <td>adventure,children,fantasy</td>\n",
       "    </tr>\n",
       "    <tr>\n",
       "      <th>2</th>\n",
       "      <td>comedy,romance</td>\n",
       "    </tr>\n",
       "    <tr>\n",
       "      <th>3</th>\n",
       "      <td>comedy,drama,romance</td>\n",
       "    </tr>\n",
       "    <tr>\n",
       "      <th>4</th>\n",
       "      <td>comedy</td>\n",
       "    </tr>\n",
       "  </tbody>\n",
       "</table>\n",
       "</div>"
      ],
      "text/plain": [
       "                                        genres\n",
       "0  adventure,animation,children,comedy,fantasy\n",
       "1                   adventure,children,fantasy\n",
       "2                               comedy,romance\n",
       "3                         comedy,drama,romance\n",
       "4                                       comedy"
      ]
     },
     "execution_count": 626,
     "metadata": {},
     "output_type": "execute_result"
    }
   ],
   "source": [
    "movie_rating_clean.head()"
   ]
  },
  {
   "cell_type": "code",
   "execution_count": 176,
   "id": "a6043d49",
   "metadata": {},
   "outputs": [],
   "source": [
    "merged_df = move_id_genre_df.join(movies_df, how='inner',lsuffix='movie_')"
   ]
  },
  {
   "cell_type": "code",
   "execution_count": 179,
   "id": "ec929071",
   "metadata": {},
   "outputs": [],
   "source": [
    "merged_df.drop(['movieIdmovie_','genresmovie_'], axis=1, inplace=True)"
   ]
  },
  {
   "cell_type": "code",
   "execution_count": 246,
   "id": "6eeccc9b",
   "metadata": {},
   "outputs": [
    {
     "data": {
      "text/html": [
       "<div>\n",
       "<style scoped>\n",
       "    .dataframe tbody tr th:only-of-type {\n",
       "        vertical-align: middle;\n",
       "    }\n",
       "\n",
       "    .dataframe tbody tr th {\n",
       "        vertical-align: top;\n",
       "    }\n",
       "\n",
       "    .dataframe thead th {\n",
       "        text-align: right;\n",
       "    }\n",
       "</style>\n",
       "<table border=\"1\" class=\"dataframe\">\n",
       "  <thead>\n",
       "    <tr style=\"text-align: right;\">\n",
       "      <th></th>\n",
       "      <th>movieId</th>\n",
       "      <th>title</th>\n",
       "      <th>genres</th>\n",
       "    </tr>\n",
       "  </thead>\n",
       "  <tbody>\n",
       "    <tr>\n",
       "      <th>0</th>\n",
       "      <td>1</td>\n",
       "      <td>Toy Story (1995)</td>\n",
       "      <td>Adventure|Animation|Children|Comedy|Fantasy</td>\n",
       "    </tr>\n",
       "    <tr>\n",
       "      <th>1</th>\n",
       "      <td>2</td>\n",
       "      <td>Jumanji (1995)</td>\n",
       "      <td>Adventure|Children|Fantasy</td>\n",
       "    </tr>\n",
       "    <tr>\n",
       "      <th>2</th>\n",
       "      <td>3</td>\n",
       "      <td>Grumpier Old Men (1995)</td>\n",
       "      <td>Comedy|Romance</td>\n",
       "    </tr>\n",
       "    <tr>\n",
       "      <th>3</th>\n",
       "      <td>4</td>\n",
       "      <td>Waiting to Exhale (1995)</td>\n",
       "      <td>Comedy|Drama|Romance</td>\n",
       "    </tr>\n",
       "    <tr>\n",
       "      <th>4</th>\n",
       "      <td>5</td>\n",
       "      <td>Father of the Bride Part II (1995)</td>\n",
       "      <td>Comedy</td>\n",
       "    </tr>\n",
       "  </tbody>\n",
       "</table>\n",
       "</div>"
      ],
      "text/plain": [
       "   movieId                               title  \\\n",
       "0        1                    Toy Story (1995)   \n",
       "1        2                      Jumanji (1995)   \n",
       "2        3             Grumpier Old Men (1995)   \n",
       "3        4            Waiting to Exhale (1995)   \n",
       "4        5  Father of the Bride Part II (1995)   \n",
       "\n",
       "                                        genres  \n",
       "0  Adventure|Animation|Children|Comedy|Fantasy  \n",
       "1                   Adventure|Children|Fantasy  \n",
       "2                               Comedy|Romance  \n",
       "3                         Comedy|Drama|Romance  \n",
       "4                                       Comedy  "
      ]
     },
     "execution_count": 246,
     "metadata": {},
     "output_type": "execute_result"
    }
   ],
   "source": [
    "merged_df.head()"
   ]
  },
  {
   "cell_type": "code",
   "execution_count": 372,
   "id": "8926600e",
   "metadata": {},
   "outputs": [
    {
     "data": {
      "text/plain": [
       "0       Adventure|Animation|Children|Comedy|Fantasy\n",
       "1                        Adventure|Children|Fantasy\n",
       "2                                    Comedy|Romance\n",
       "3                              Comedy|Drama|Romance\n",
       "4                                            Comedy\n",
       "                           ...                     \n",
       "9719                                    Documentary\n",
       "9720                      Action|Adventure|Thriller\n",
       "9721                          Action|Crime|Thriller\n",
       "9722                                  Action|Sci-Fi\n",
       "9723                             Comedy|Crime|Drama\n",
       "Name: genres, Length: 9724, dtype: object"
      ]
     },
     "execution_count": 372,
     "metadata": {},
     "output_type": "execute_result"
    }
   ],
   "source": [
    "merged_df.genres"
   ]
  },
  {
   "cell_type": "code",
   "execution_count": 389,
   "id": "22082e96",
   "metadata": {},
   "outputs": [],
   "source": [
    "merged_df['genres'] = merged_df['genres'].apply(lambda x :x.replace('|',',').lower())"
   ]
  },
  {
   "cell_type": "code",
   "execution_count": 444,
   "id": "5817b0c7",
   "metadata": {},
   "outputs": [],
   "source": [
    "gener_list = merged_df['genres'].to_list()"
   ]
  },
  {
   "cell_type": "code",
   "execution_count": 447,
   "id": "6296be2c",
   "metadata": {},
   "outputs": [],
   "source": [
    "gener_list = ''.join(gener_list).split(',')"
   ]
  },
  {
   "cell_type": "code",
   "execution_count": 448,
   "id": "29acc3a5",
   "metadata": {},
   "outputs": [],
   "source": [
    "from collections import Counter\n",
    "count_dict = dict(Counter(gener_list))"
   ]
  },
  {
   "cell_type": "code",
   "execution_count": 458,
   "id": "f88d6f93",
   "metadata": {},
   "outputs": [
    {
     "data": {
      "text/plain": [
       "<Axes: >"
      ]
     },
     "execution_count": 458,
     "metadata": {},
     "output_type": "execute_result"
    },
    {
     "data": {
      "image/png": "[encoded data removed]",
      "text/plain": [
       "<Figure size 640x480 with 1 Axes>"
      ]
     },
     "metadata": {},
     "output_type": "display_data"
    }
   ],
   "source": [
    "pd.Series(count_dict).sort_values(ascending=False).head(15).plot(kind='barh')"
   ]
  },
  {
   "cell_type": "code",
   "execution_count": 544,
   "id": "02def188",
   "metadata": {},
   "outputs": [],
   "source": [
    "genres_to_filter = pd.Series(count_dict).sort_values(ascending=False)\n",
    "new_cols = genres_to_filter.head(60).keys().to_list()"
   ]
  },
  {
   "cell_type": "code",
   "execution_count": 545,
   "id": "394bd1fd",
   "metadata": {},
   "outputs": [
    {
     "data": {
      "text/plain": [
       "['drama',\n",
       " 'comedy',\n",
       " 'adventure',\n",
       " 'crime',\n",
       " 'fantasy',\n",
       " 'children',\n",
       " 'mystery',\n",
       " 'horror',\n",
       " 'sci-fi',\n",
       " 'thrillercomedy',\n",
       " 'thrilleraction',\n",
       " 'animation',\n",
       " 'romancecomedy',\n",
       " 'romanceaction',\n",
       " 'thrillerdrama',\n",
       " 'romance',\n",
       " 'dramacomedy',\n",
       " 'dramaaction',\n",
       " 'romancedrama',\n",
       " 'sci-fiaction',\n",
       " 'dramadrama',\n",
       " 'thrilleradventure',\n",
       " 'musical',\n",
       " 'thrillercrime',\n",
       " 'sci-ficomedy',\n",
       " 'thriller',\n",
       " 'romanceadventure',\n",
       " 'comedyaction',\n",
       " 'romancecrime',\n",
       " 'fantasyaction',\n",
       " 'comedycomedy',\n",
       " 'warcomedy',\n",
       " 'thrillerhorror',\n",
       " 'sci-fidrama',\n",
       " 'waraction',\n",
       " 'dramaadventure',\n",
       " 'fantasycomedy',\n",
       " 'fantasydrama',\n",
       " 'wardrama',\n",
       " 'dramacrime',\n",
       " 'film-noir',\n",
       " 'sci-fiadventure',\n",
       " 'crimeaction',\n",
       " 'musicalcomedy',\n",
       " 'thrillerdramacomedy',\n",
       " 'horrorcomedy',\n",
       " 'thrillerdramaaction',\n",
       " 'romanceanimation',\n",
       " 'crimecomedy',\n",
       " 'thrilleranimation',\n",
       " 'romancecomedycomedy',\n",
       " 'imaxaction',\n",
       " 'imaxcomedy',\n",
       " 'romancedramacomedy',\n",
       " 'musicalaction',\n",
       " 'comedyadventure',\n",
       " 'fantasyadventure',\n",
       " 'sci-fihorror',\n",
       " 'thrillerchildren',\n",
       " 'comedydrama']"
      ]
     },
     "execution_count": 545,
     "metadata": {},
     "output_type": "execute_result"
    }
   ],
   "source": [
    "new_cols"
   ]
  },
  {
   "cell_type": "code",
   "execution_count": 584,
   "id": "c756f9e8",
   "metadata": {},
   "outputs": [
    {
     "data": {
      "text/html": [
       "<div>\n",
       "<style scoped>\n",
       "    .dataframe tbody tr th:only-of-type {\n",
       "        vertical-align: middle;\n",
       "    }\n",
       "\n",
       "    .dataframe tbody tr th {\n",
       "        vertical-align: top;\n",
       "    }\n",
       "\n",
       "    .dataframe thead th {\n",
       "        text-align: right;\n",
       "    }\n",
       "</style>\n",
       "<table border=\"1\" class=\"dataframe\">\n",
       "  <thead>\n",
       "    <tr style=\"text-align: right;\">\n",
       "      <th></th>\n",
       "      <th>genres</th>\n",
       "    </tr>\n",
       "  </thead>\n",
       "  <tbody>\n",
       "    <tr>\n",
       "      <th>0</th>\n",
       "      <td>Adventure|Animation|Children|Comedy|Fantasy</td>\n",
       "    </tr>\n",
       "    <tr>\n",
       "      <th>1</th>\n",
       "      <td>Adventure|Children|Fantasy</td>\n",
       "    </tr>\n",
       "    <tr>\n",
       "      <th>2</th>\n",
       "      <td>Comedy|Romance</td>\n",
       "    </tr>\n",
       "    <tr>\n",
       "      <th>3</th>\n",
       "      <td>Comedy|Drama|Romance</td>\n",
       "    </tr>\n",
       "    <tr>\n",
       "      <th>4</th>\n",
       "      <td>Comedy</td>\n",
       "    </tr>\n",
       "  </tbody>\n",
       "</table>\n",
       "</div>"
      ],
      "text/plain": [
       "                                        genres\n",
       "0  Adventure|Animation|Children|Comedy|Fantasy\n",
       "1                   Adventure|Children|Fantasy\n",
       "2                               Comedy|Romance\n",
       "3                         Comedy|Drama|Romance\n",
       "4                                       Comedy"
      ]
     },
     "execution_count": 584,
     "metadata": {},
     "output_type": "execute_result"
    }
   ],
   "source": [
    "movie_rating_clean.head()"
   ]
  },
  {
   "cell_type": "markdown",
   "id": "6e29be11",
   "metadata": {},
   "source": [
    "### Modelling using TFIDF vectorizer"
   ]
  },
  {
   "cell_type": "code",
   "execution_count": 627,
   "id": "8d8a9a63",
   "metadata": {},
   "outputs": [],
   "source": [
    "from sklearn.feature_extraction.text import TfidfVectorizer\n",
    "vectorizer = TfidfVectorizer(token_pattern=',?\\\\s*\\\\w+\\\\s*(?:,|$)', vocabulary=new_cols)\n",
    "tfidf_genres = vectorizer.fit_transform(movie_rating_clean.genres)"
   ]
  },
  {
   "cell_type": "code",
   "execution_count": 628,
   "id": "f91e12eb",
   "metadata": {},
   "outputs": [
    {
     "data": {
      "text/plain": [
       "array(['drama', 'comedy', 'adventure', 'crime', 'fantasy', 'children',\n",
       "       'mystery', 'horror', 'sci-fi', 'thrillercomedy', 'thrilleraction',\n",
       "       'animation', 'romancecomedy', 'romanceaction', 'thrillerdrama',\n",
       "       'romance', 'dramacomedy', 'dramaaction', 'romancedrama',\n",
       "       'sci-fiaction', 'dramadrama', 'thrilleradventure', 'musical',\n",
       "       'thrillercrime', 'sci-ficomedy', 'thriller', 'romanceadventure',\n",
       "       'comedyaction', 'romancecrime', 'fantasyaction', 'comedycomedy',\n",
       "       'warcomedy', 'thrillerhorror', 'sci-fidrama', 'waraction',\n",
       "       'dramaadventure', 'fantasycomedy', 'fantasydrama', 'wardrama',\n",
       "       'dramacrime', 'film-noir', 'sci-fiadventure', 'crimeaction',\n",
       "       'musicalcomedy', 'thrillerdramacomedy', 'horrorcomedy',\n",
       "       'thrillerdramaaction', 'romanceanimation', 'crimecomedy',\n",
       "       'thrilleranimation', 'romancecomedycomedy', 'imaxaction',\n",
       "       'imaxcomedy', 'romancedramacomedy', 'musicalaction',\n",
       "       'comedyadventure', 'fantasyadventure', 'sci-fihorror',\n",
       "       'thrillerchildren', 'comedydrama'], dtype=object)"
      ]
     },
     "execution_count": 628,
     "metadata": {},
     "output_type": "execute_result"
    }
   ],
   "source": [
    "vectorizer.get_feature_names_out()"
   ]
  },
  {
   "cell_type": "code",
   "execution_count": 629,
   "id": "67ce2515",
   "metadata": {},
   "outputs": [],
   "source": [
    "movie_genres_df = pd.DataFrame(tfidf_genres.todense(), columns=new_cols)"
   ]
  },
  {
   "cell_type": "code",
   "execution_count": 630,
   "id": "e66f8ce0",
   "metadata": {},
   "outputs": [
    {
     "data": {
      "text/html": [
       "<div>\n",
       "<style scoped>\n",
       "    .dataframe tbody tr th:only-of-type {\n",
       "        vertical-align: middle;\n",
       "    }\n",
       "\n",
       "    .dataframe tbody tr th {\n",
       "        vertical-align: top;\n",
       "    }\n",
       "\n",
       "    .dataframe thead th {\n",
       "        text-align: right;\n",
       "    }\n",
       "</style>\n",
       "<table border=\"1\" class=\"dataframe\">\n",
       "  <thead>\n",
       "    <tr style=\"text-align: right;\">\n",
       "      <th></th>\n",
       "      <th>drama</th>\n",
       "      <th>comedy</th>\n",
       "      <th>adventure</th>\n",
       "      <th>crime</th>\n",
       "      <th>fantasy</th>\n",
       "      <th>children</th>\n",
       "      <th>mystery</th>\n",
       "      <th>horror</th>\n",
       "      <th>sci-fi</th>\n",
       "      <th>thrillercomedy</th>\n",
       "      <th>...</th>\n",
       "      <th>romancecomedycomedy</th>\n",
       "      <th>imaxaction</th>\n",
       "      <th>imaxcomedy</th>\n",
       "      <th>romancedramacomedy</th>\n",
       "      <th>musicalaction</th>\n",
       "      <th>comedyadventure</th>\n",
       "      <th>fantasyadventure</th>\n",
       "      <th>sci-fihorror</th>\n",
       "      <th>thrillerchildren</th>\n",
       "      <th>comedydrama</th>\n",
       "    </tr>\n",
       "  </thead>\n",
       "  <tbody>\n",
       "    <tr>\n",
       "      <th>9719</th>\n",
       "      <td>0.0</td>\n",
       "      <td>0.0</td>\n",
       "      <td>0.0</td>\n",
       "      <td>0.0</td>\n",
       "      <td>1.0</td>\n",
       "      <td>0.0</td>\n",
       "      <td>0.0</td>\n",
       "      <td>0.0</td>\n",
       "      <td>0.0</td>\n",
       "      <td>0.0</td>\n",
       "      <td>...</td>\n",
       "      <td>0.0</td>\n",
       "      <td>0.0</td>\n",
       "      <td>0.0</td>\n",
       "      <td>0.0</td>\n",
       "      <td>0.0</td>\n",
       "      <td>0.0</td>\n",
       "      <td>0.0</td>\n",
       "      <td>0.0</td>\n",
       "      <td>0.0</td>\n",
       "      <td>0.0</td>\n",
       "    </tr>\n",
       "    <tr>\n",
       "      <th>9720</th>\n",
       "      <td>0.0</td>\n",
       "      <td>0.0</td>\n",
       "      <td>0.0</td>\n",
       "      <td>0.0</td>\n",
       "      <td>1.0</td>\n",
       "      <td>0.0</td>\n",
       "      <td>0.0</td>\n",
       "      <td>0.0</td>\n",
       "      <td>0.0</td>\n",
       "      <td>0.0</td>\n",
       "      <td>...</td>\n",
       "      <td>0.0</td>\n",
       "      <td>0.0</td>\n",
       "      <td>0.0</td>\n",
       "      <td>0.0</td>\n",
       "      <td>0.0</td>\n",
       "      <td>0.0</td>\n",
       "      <td>0.0</td>\n",
       "      <td>0.0</td>\n",
       "      <td>0.0</td>\n",
       "      <td>0.0</td>\n",
       "    </tr>\n",
       "    <tr>\n",
       "      <th>9721</th>\n",
       "      <td>1.0</td>\n",
       "      <td>0.0</td>\n",
       "      <td>0.0</td>\n",
       "      <td>0.0</td>\n",
       "      <td>0.0</td>\n",
       "      <td>0.0</td>\n",
       "      <td>0.0</td>\n",
       "      <td>0.0</td>\n",
       "      <td>0.0</td>\n",
       "      <td>0.0</td>\n",
       "      <td>...</td>\n",
       "      <td>0.0</td>\n",
       "      <td>0.0</td>\n",
       "      <td>0.0</td>\n",
       "      <td>0.0</td>\n",
       "      <td>0.0</td>\n",
       "      <td>0.0</td>\n",
       "      <td>0.0</td>\n",
       "      <td>0.0</td>\n",
       "      <td>0.0</td>\n",
       "      <td>0.0</td>\n",
       "    </tr>\n",
       "    <tr>\n",
       "      <th>9722</th>\n",
       "      <td>0.0</td>\n",
       "      <td>0.0</td>\n",
       "      <td>0.0</td>\n",
       "      <td>0.0</td>\n",
       "      <td>0.0</td>\n",
       "      <td>0.0</td>\n",
       "      <td>0.0</td>\n",
       "      <td>0.0</td>\n",
       "      <td>0.0</td>\n",
       "      <td>0.0</td>\n",
       "      <td>...</td>\n",
       "      <td>0.0</td>\n",
       "      <td>0.0</td>\n",
       "      <td>0.0</td>\n",
       "      <td>0.0</td>\n",
       "      <td>0.0</td>\n",
       "      <td>0.0</td>\n",
       "      <td>0.0</td>\n",
       "      <td>0.0</td>\n",
       "      <td>0.0</td>\n",
       "      <td>0.0</td>\n",
       "    </tr>\n",
       "    <tr>\n",
       "      <th>9723</th>\n",
       "      <td>0.0</td>\n",
       "      <td>1.0</td>\n",
       "      <td>0.0</td>\n",
       "      <td>0.0</td>\n",
       "      <td>0.0</td>\n",
       "      <td>0.0</td>\n",
       "      <td>0.0</td>\n",
       "      <td>0.0</td>\n",
       "      <td>0.0</td>\n",
       "      <td>0.0</td>\n",
       "      <td>...</td>\n",
       "      <td>0.0</td>\n",
       "      <td>0.0</td>\n",
       "      <td>0.0</td>\n",
       "      <td>0.0</td>\n",
       "      <td>0.0</td>\n",
       "      <td>0.0</td>\n",
       "      <td>0.0</td>\n",
       "      <td>0.0</td>\n",
       "      <td>0.0</td>\n",
       "      <td>0.0</td>\n",
       "    </tr>\n",
       "  </tbody>\n",
       "</table>\n",
       "<p>5 rows × 60 columns</p>\n",
       "</div>"
      ],
      "text/plain": [
       "      drama  comedy  adventure  crime  fantasy  children  mystery  horror  \\\n",
       "9719    0.0     0.0        0.0    0.0      1.0       0.0      0.0     0.0   \n",
       "9720    0.0     0.0        0.0    0.0      1.0       0.0      0.0     0.0   \n",
       "9721    1.0     0.0        0.0    0.0      0.0       0.0      0.0     0.0   \n",
       "9722    0.0     0.0        0.0    0.0      0.0       0.0      0.0     0.0   \n",
       "9723    0.0     1.0        0.0    0.0      0.0       0.0      0.0     0.0   \n",
       "\n",
       "      sci-fi  thrillercomedy  ...  romancecomedycomedy  imaxaction  \\\n",
       "9719     0.0             0.0  ...                  0.0         0.0   \n",
       "9720     0.0             0.0  ...                  0.0         0.0   \n",
       "9721     0.0             0.0  ...                  0.0         0.0   \n",
       "9722     0.0             0.0  ...                  0.0         0.0   \n",
       "9723     0.0             0.0  ...                  0.0         0.0   \n",
       "\n",
       "      imaxcomedy  romancedramacomedy  musicalaction  comedyadventure  \\\n",
       "9719         0.0                 0.0            0.0              0.0   \n",
       "9720         0.0                 0.0            0.0              0.0   \n",
       "9721         0.0                 0.0            0.0              0.0   \n",
       "9722         0.0                 0.0            0.0              0.0   \n",
       "9723         0.0                 0.0            0.0              0.0   \n",
       "\n",
       "      fantasyadventure  sci-fihorror  thrillerchildren  comedydrama  \n",
       "9719               0.0           0.0               0.0          0.0  \n",
       "9720               0.0           0.0               0.0          0.0  \n",
       "9721               0.0           0.0               0.0          0.0  \n",
       "9722               0.0           0.0               0.0          0.0  \n",
       "9723               0.0           0.0               0.0          0.0  \n",
       "\n",
       "[5 rows x 60 columns]"
      ]
     },
     "execution_count": 630,
     "metadata": {},
     "output_type": "execute_result"
    }
   ],
   "source": [
    "movie_genres_df.tail()"
   ]
  },
  {
   "cell_type": "code",
   "execution_count": 631,
   "id": "c1f95574",
   "metadata": {},
   "outputs": [
    {
     "data": {
      "text/plain": [
       "Index(['drama', 'comedy', 'adventure', 'crime', 'fantasy', 'children',\n",
       "       'mystery', 'horror', 'sci-fi', 'thrillercomedy', 'thrilleraction',\n",
       "       'animation', 'romancecomedy', 'romanceaction', 'thrillerdrama',\n",
       "       'romance', 'dramacomedy', 'dramaaction', 'romancedrama', 'sci-fiaction',\n",
       "       'dramadrama', 'thrilleradventure', 'musical', 'thrillercrime',\n",
       "       'sci-ficomedy', 'thriller', 'romanceadventure', 'comedyaction',\n",
       "       'romancecrime', 'fantasyaction', 'comedycomedy', 'warcomedy',\n",
       "       'thrillerhorror', 'sci-fidrama', 'waraction', 'dramaadventure',\n",
       "       'fantasycomedy', 'fantasydrama', 'wardrama', 'dramacrime', 'film-noir',\n",
       "       'sci-fiadventure', 'crimeaction', 'musicalcomedy',\n",
       "       'thrillerdramacomedy', 'horrorcomedy', 'thrillerdramaaction',\n",
       "       'romanceanimation', 'crimecomedy', 'thrilleranimation',\n",
       "       'romancecomedycomedy', 'imaxaction', 'imaxcomedy', 'romancedramacomedy',\n",
       "       'musicalaction', 'comedyadventure', 'fantasyadventure', 'sci-fihorror',\n",
       "       'thrillerchildren', 'comedydrama'],\n",
       "      dtype='object')"
      ]
     },
     "execution_count": 631,
     "metadata": {},
     "output_type": "execute_result"
    }
   ],
   "source": [
    "movie_genres_df.keys()"
   ]
  },
  {
   "cell_type": "code",
   "execution_count": 565,
   "id": "d104c807",
   "metadata": {},
   "outputs": [
    {
     "data": {
      "text/html": [
       "<style>#sk-container-id-16 {color: black;background-color: white;}#sk-container-id-16 pre{padding: 0;}#sk-container-id-16 div.sk-toggleable {background-color: white;}#sk-container-id-16 label.sk-toggleable__label {cursor: pointer;display: block;width: 100%;margin-bottom: 0;padding: 0.3em;box-sizing: border-box;text-align: center;}#sk-container-id-16 label.sk-toggleable__label-arrow:before {content: \"▸\";float: left;margin-right: 0.25em;color: #696969;}#sk-container-id-16 label.sk-toggleable__label-arrow:hover:before {color: black;}#sk-container-id-16 div.sk-estimator:hover label.sk-toggleable__label-arrow:before {color: black;}#sk-container-id-16 div.sk-toggleable__content {max-height: 0;max-width: 0;overflow: hidden;text-align: left;background-color: #f0f8ff;}#sk-container-id-16 div.sk-toggleable__content pre {margin: 0.2em;color: black;border-radius: 0.25em;background-color: #f0f8ff;}#sk-container-id-16 input.sk-toggleable__control:checked~div.sk-toggleable__content {max-height: 200px;max-width: 100%;overflow: auto;}#sk-container-id-16 input.sk-toggleable__control:checked~label.sk-toggleable__label-arrow:before {content: \"▾\";}#sk-container-id-16 div.sk-estimator input.sk-toggleable__control:checked~label.sk-toggleable__label {background-color: #d4ebff;}#sk-container-id-16 div.sk-label input.sk-toggleable__control:checked~label.sk-toggleable__label {background-color: #d4ebff;}#sk-container-id-16 input.sk-hidden--visually {border: 0;clip: rect(1px 1px 1px 1px);clip: rect(1px, 1px, 1px, 1px);height: 1px;margin: -1px;overflow: hidden;padding: 0;position: absolute;width: 1px;}#sk-container-id-16 div.sk-estimator {font-family: monospace;background-color: #f0f8ff;border: 1px dotted black;border-radius: 0.25em;box-sizing: border-box;margin-bottom: 0.5em;}#sk-container-id-16 div.sk-estimator:hover {background-color: #d4ebff;}#sk-container-id-16 div.sk-parallel-item::after {content: \"\";width: 100%;border-bottom: 1px solid gray;flex-grow: 1;}#sk-container-id-16 div.sk-label:hover label.sk-toggleable__label {background-color: #d4ebff;}#sk-container-id-16 div.sk-serial::before {content: \"\";position: absolute;border-left: 1px solid gray;box-sizing: border-box;top: 0;bottom: 0;left: 50%;z-index: 0;}#sk-container-id-16 div.sk-serial {display: flex;flex-direction: column;align-items: center;background-color: white;padding-right: 0.2em;padding-left: 0.2em;position: relative;}#sk-container-id-16 div.sk-item {position: relative;z-index: 1;}#sk-container-id-16 div.sk-parallel {display: flex;align-items: stretch;justify-content: center;background-color: white;position: relative;}#sk-container-id-16 div.sk-item::before, #sk-container-id-16 div.sk-parallel-item::before {content: \"\";position: absolute;border-left: 1px solid gray;box-sizing: border-box;top: 0;bottom: 0;left: 50%;z-index: -1;}#sk-container-id-16 div.sk-parallel-item {display: flex;flex-direction: column;z-index: 1;position: relative;background-color: white;}#sk-container-id-16 div.sk-parallel-item:first-child::after {align-self: flex-end;width: 50%;}#sk-container-id-16 div.sk-parallel-item:last-child::after {align-self: flex-start;width: 50%;}#sk-container-id-16 div.sk-parallel-item:only-child::after {width: 0;}#sk-container-id-16 div.sk-dashed-wrapped {border: 1px dashed gray;margin: 0 0.4em 0.5em 0.4em;box-sizing: border-box;padding-bottom: 0.4em;background-color: white;}#sk-container-id-16 div.sk-label label {font-family: monospace;font-weight: bold;display: inline-block;line-height: 1.2em;}#sk-container-id-16 div.sk-label-container {text-align: center;}#sk-container-id-16 div.sk-container {/* jupyter's `normalize.less` sets `[hidden] { display: none; }` but bootstrap.min.css set `[hidden] { display: none !important; }` so we also need the `!important` here to be able to override the default hidden behavior on the sphinx rendered scikit-learn.org. See: https://github.com/scikit-learn/scikit-learn/issues/21755 */display: inline-block !important;position: relative;}#sk-container-id-16 div.sk-text-repr-fallback {display: none;}</style><div id=\"sk-container-id-16\" class=\"sk-top-container\"><div class=\"sk-text-repr-fallback\"><pre>NearestNeighbors(metric=&#x27;cosine&#x27;)</pre><b>In a Jupyter environment, please rerun this cell to show the HTML representation or trust the notebook. <br />On GitHub, the HTML representation is unable to render, please try loading this page with nbviewer.org.</b></div><div class=\"sk-container\" hidden><div class=\"sk-item\"><div class=\"sk-estimator sk-toggleable\"><input class=\"sk-toggleable__control sk-hidden--visually\" id=\"sk-estimator-id-16\" type=\"checkbox\" checked><label for=\"sk-estimator-id-16\" class=\"sk-toggleable__label sk-toggleable__label-arrow\">NearestNeighbors</label><div class=\"sk-toggleable__content\"><pre>NearestNeighbors(metric=&#x27;cosine&#x27;)</pre></div></div></div></div></div>"
      ],
      "text/plain": [
       "NearestNeighbors(metric='cosine')"
      ]
     },
     "execution_count": 565,
     "metadata": {},
     "output_type": "execute_result"
    }
   ],
   "source": [
    "nn_algo_tfidf = NearestNeighbors(metric='cosine')\n",
    "nn_algo_tfidf.fit(movie_genres_df)"
   ]
  },
  {
   "cell_type": "markdown",
   "id": "f6ddb62d",
   "metadata": {},
   "source": [
    "### Testing"
   ]
  },
  {
   "cell_type": "code",
   "execution_count": 632,
   "id": "b43f1d61",
   "metadata": {},
   "outputs": [
    {
     "data": {
      "text/html": [
       "<div>\n",
       "<style scoped>\n",
       "    .dataframe tbody tr th:only-of-type {\n",
       "        vertical-align: middle;\n",
       "    }\n",
       "\n",
       "    .dataframe tbody tr th {\n",
       "        vertical-align: top;\n",
       "    }\n",
       "\n",
       "    .dataframe thead th {\n",
       "        text-align: right;\n",
       "    }\n",
       "</style>\n",
       "<table border=\"1\" class=\"dataframe\">\n",
       "  <thead>\n",
       "    <tr style=\"text-align: right;\">\n",
       "      <th></th>\n",
       "      <th>movieId</th>\n",
       "      <th>title</th>\n",
       "      <th>genres</th>\n",
       "    </tr>\n",
       "  </thead>\n",
       "  <tbody>\n",
       "    <tr>\n",
       "      <th>327</th>\n",
       "      <td>369</td>\n",
       "      <td>Mrs. Parker and the Vicious Circle (1994)</td>\n",
       "      <td>drama</td>\n",
       "    </tr>\n",
       "    <tr>\n",
       "      <th>418</th>\n",
       "      <td>480</td>\n",
       "      <td>Jurassic Park (1993)</td>\n",
       "      <td>action,adventure,sci-fi,thriller</td>\n",
       "    </tr>\n",
       "    <tr>\n",
       "      <th>575</th>\n",
       "      <td>706</td>\n",
       "      <td>Sunset Park (1996)</td>\n",
       "      <td>drama</td>\n",
       "    </tr>\n",
       "    <tr>\n",
       "      <th>1106</th>\n",
       "      <td>1439</td>\n",
       "      <td>Meet Wally Sparks (1997)</td>\n",
       "      <td>comedy</td>\n",
       "    </tr>\n",
       "    <tr>\n",
       "      <th>1164</th>\n",
       "      <td>1544</td>\n",
       "      <td>Lost World: Jurassic Park, The (1997)</td>\n",
       "      <td>action,adventure,sci-fi,thriller</td>\n",
       "    </tr>\n",
       "    <tr>\n",
       "      <th>2028</th>\n",
       "      <td>2700</td>\n",
       "      <td>South Park: Bigger, Longer and Uncut (1999)</td>\n",
       "      <td>animation,comedy,musical</td>\n",
       "    </tr>\n",
       "    <tr>\n",
       "      <th>2155</th>\n",
       "      <td>2870</td>\n",
       "      <td>Barefoot in the Park (1967)</td>\n",
       "      <td>comedy</td>\n",
       "    </tr>\n",
       "    <tr>\n",
       "      <th>2168</th>\n",
       "      <td>2884</td>\n",
       "      <td>Dog Park (1998)</td>\n",
       "      <td>comedy,romance</td>\n",
       "    </tr>\n",
       "    <tr>\n",
       "      <th>2325</th>\n",
       "      <td>3079</td>\n",
       "      <td>Mansfield Park (1999)</td>\n",
       "      <td>comedy,drama,romance</td>\n",
       "    </tr>\n",
       "    <tr>\n",
       "      <th>3409</th>\n",
       "      <td>4638</td>\n",
       "      <td>Jurassic Park III (2001)</td>\n",
       "      <td>action,adventure,sci-fi,thriller</td>\n",
       "    </tr>\n",
       "    <tr>\n",
       "      <th>3649</th>\n",
       "      <td>5013</td>\n",
       "      <td>Gosford Park (2001)</td>\n",
       "      <td>comedy,drama,mystery</td>\n",
       "    </tr>\n",
       "    <tr>\n",
       "      <th>4680</th>\n",
       "      <td>6989</td>\n",
       "      <td>Gorky Park (1983)</td>\n",
       "      <td>crime,drama,thriller</td>\n",
       "    </tr>\n",
       "    <tr>\n",
       "      <th>5070</th>\n",
       "      <td>7976</td>\n",
       "      <td>Ken Park (2002)</td>\n",
       "      <td>drama</td>\n",
       "    </tr>\n",
       "    <tr>\n",
       "      <th>5322</th>\n",
       "      <td>8836</td>\n",
       "      <td>Wicker Park (2004)</td>\n",
       "      <td>drama,romance,thriller</td>\n",
       "    </tr>\n",
       "    <tr>\n",
       "      <th>6501</th>\n",
       "      <td>53447</td>\n",
       "      <td>Paranoid Park (2007)</td>\n",
       "      <td>crime,drama</td>\n",
       "    </tr>\n",
       "    <tr>\n",
       "      <th>7368</th>\n",
       "      <td>79008</td>\n",
       "      <td>South Park: Imaginationland (2008)</td>\n",
       "      <td>animation,comedy,fantasy</td>\n",
       "    </tr>\n",
       "    <tr>\n",
       "      <th>7840</th>\n",
       "      <td>93320</td>\n",
       "      <td>Trailer Park Boys (1999)</td>\n",
       "      <td>comedy,crime</td>\n",
       "    </tr>\n",
       "    <tr>\n",
       "      <th>7947</th>\n",
       "      <td>95873</td>\n",
       "      <td>Ruby Sparks (2012)</td>\n",
       "      <td>comedy,fantasy,romance</td>\n",
       "    </tr>\n",
       "    <tr>\n",
       "      <th>7964</th>\n",
       "      <td>96411</td>\n",
       "      <td>6 Days to Air: The Making of South Park (2011)</td>\n",
       "      <td>documentary</td>\n",
       "    </tr>\n",
       "    <tr>\n",
       "      <th>8054</th>\n",
       "      <td>98836</td>\n",
       "      <td>Hyde Park on Hudson (2012)</td>\n",
       "      <td>comedy,drama</td>\n",
       "    </tr>\n",
       "  </tbody>\n",
       "</table>\n",
       "</div>"
      ],
      "text/plain": [
       "      movieId                                           title  \\\n",
       "327       369       Mrs. Parker and the Vicious Circle (1994)   \n",
       "418       480                            Jurassic Park (1993)   \n",
       "575       706                              Sunset Park (1996)   \n",
       "1106     1439                        Meet Wally Sparks (1997)   \n",
       "1164     1544           Lost World: Jurassic Park, The (1997)   \n",
       "2028     2700     South Park: Bigger, Longer and Uncut (1999)   \n",
       "2155     2870                     Barefoot in the Park (1967)   \n",
       "2168     2884                                 Dog Park (1998)   \n",
       "2325     3079                           Mansfield Park (1999)   \n",
       "3409     4638                        Jurassic Park III (2001)   \n",
       "3649     5013                             Gosford Park (2001)   \n",
       "4680     6989                               Gorky Park (1983)   \n",
       "5070     7976                                 Ken Park (2002)   \n",
       "5322     8836                              Wicker Park (2004)   \n",
       "6501    53447                            Paranoid Park (2007)   \n",
       "7368    79008              South Park: Imaginationland (2008)   \n",
       "7840    93320                        Trailer Park Boys (1999)   \n",
       "7947    95873                              Ruby Sparks (2012)   \n",
       "7964    96411  6 Days to Air: The Making of South Park (2011)   \n",
       "8054    98836                      Hyde Park on Hudson (2012)   \n",
       "\n",
       "                                genres  \n",
       "327                              drama  \n",
       "418   action,adventure,sci-fi,thriller  \n",
       "575                              drama  \n",
       "1106                            comedy  \n",
       "1164  action,adventure,sci-fi,thriller  \n",
       "2028          animation,comedy,musical  \n",
       "2155                            comedy  \n",
       "2168                    comedy,romance  \n",
       "2325              comedy,drama,romance  \n",
       "3409  action,adventure,sci-fi,thriller  \n",
       "3649              comedy,drama,mystery  \n",
       "4680              crime,drama,thriller  \n",
       "5070                             drama  \n",
       "5322            drama,romance,thriller  \n",
       "6501                       crime,drama  \n",
       "7368          animation,comedy,fantasy  \n",
       "7840                      comedy,crime  \n",
       "7947            comedy,fantasy,romance  \n",
       "7964                       documentary  \n",
       "8054                      comedy,drama  "
      ]
     },
     "execution_count": 632,
     "metadata": {},
     "output_type": "execute_result"
    }
   ],
   "source": [
    "# Getting the actual title to index\n",
    "merged_df[merged_df['title'].str.lower().str.contains('park')]"
   ]
  },
  {
   "cell_type": "code",
   "execution_count": 646,
   "id": "c84c5d93",
   "metadata": {},
   "outputs": [
    {
     "data": {
      "text/plain": [
       "drama                  0.0\n",
       "comedy                 0.0\n",
       "adventure              0.0\n",
       "crime                  0.0\n",
       "fantasy                1.0\n",
       "children               0.0\n",
       "mystery                0.0\n",
       "horror                 0.0\n",
       "sci-fi                 0.0\n",
       "thrillercomedy         0.0\n",
       "thrilleraction         0.0\n",
       "animation              0.0\n",
       "romancecomedy          0.0\n",
       "romanceaction          0.0\n",
       "thrillerdrama          0.0\n",
       "romance                0.0\n",
       "dramacomedy            0.0\n",
       "dramaaction            0.0\n",
       "romancedrama           0.0\n",
       "sci-fiaction           0.0\n",
       "dramadrama             0.0\n",
       "thrilleradventure      0.0\n",
       "musical                0.0\n",
       "thrillercrime          0.0\n",
       "sci-ficomedy           0.0\n",
       "thriller               0.0\n",
       "romanceadventure       0.0\n",
       "comedyaction           0.0\n",
       "romancecrime           0.0\n",
       "fantasyaction          0.0\n",
       "comedycomedy           0.0\n",
       "warcomedy              0.0\n",
       "thrillerhorror         0.0\n",
       "sci-fidrama            0.0\n",
       "waraction              0.0\n",
       "dramaadventure         0.0\n",
       "fantasycomedy          0.0\n",
       "fantasydrama           0.0\n",
       "wardrama               0.0\n",
       "dramacrime             0.0\n",
       "film-noir              0.0\n",
       "sci-fiadventure        0.0\n",
       "crimeaction            0.0\n",
       "musicalcomedy          0.0\n",
       "thrillerdramacomedy    0.0\n",
       "horrorcomedy           0.0\n",
       "thrillerdramaaction    0.0\n",
       "romanceanimation       0.0\n",
       "crimecomedy            0.0\n",
       "thrilleranimation      0.0\n",
       "romancecomedycomedy    0.0\n",
       "imaxaction             0.0\n",
       "imaxcomedy             0.0\n",
       "romancedramacomedy     0.0\n",
       "musicalaction          0.0\n",
       "comedyadventure        0.0\n",
       "fantasyadventure       0.0\n",
       "sci-fihorror           0.0\n",
       "thrillerchildren       0.0\n",
       "comedydrama            0.0\n",
       "Name: 1, dtype: float64"
      ]
     },
     "execution_count": 646,
     "metadata": {},
     "output_type": "execute_result"
    }
   ],
   "source": [
    "#get the corresponding genere vectors\n",
    "watched_movie = movie_genres_df.iloc[1]\n",
    "watched_movie"
   ]
  },
  {
   "cell_type": "code",
   "execution_count": 634,
   "id": "6d92e8b1",
   "metadata": {},
   "outputs": [
    {
     "name": "stderr",
     "output_type": "stream",
     "text": [
      "C:\\Users\\sreej\\anaconda3\\lib\\site-packages\\sklearn\\base.py:420: UserWarning: X does not have valid feature names, but NearestNeighbors was fitted with feature names\n",
      "  warnings.warn(\n"
     ]
    }
   ],
   "source": [
    "distance,neighbors_tfidf = nn_algo_tfidf.kneighbors([watched_movie],n_neighbors=5+1)"
   ]
  },
  {
   "cell_type": "code",
   "execution_count": 635,
   "id": "a69eadac",
   "metadata": {},
   "outputs": [
    {
     "data": {
      "text/html": [
       "<div>\n",
       "<style scoped>\n",
       "    .dataframe tbody tr th:only-of-type {\n",
       "        vertical-align: middle;\n",
       "    }\n",
       "\n",
       "    .dataframe tbody tr th {\n",
       "        vertical-align: top;\n",
       "    }\n",
       "\n",
       "    .dataframe thead th {\n",
       "        text-align: right;\n",
       "    }\n",
       "</style>\n",
       "<table border=\"1\" class=\"dataframe\">\n",
       "  <thead>\n",
       "    <tr style=\"text-align: right;\">\n",
       "      <th></th>\n",
       "      <th>movieId</th>\n",
       "      <th>title</th>\n",
       "      <th>genres</th>\n",
       "    </tr>\n",
       "  </thead>\n",
       "  <tbody>\n",
       "    <tr>\n",
       "      <th>2893</th>\n",
       "      <td>3870</td>\n",
       "      <td>Our Town (1940)</td>\n",
       "      <td>drama</td>\n",
       "    </tr>\n",
       "    <tr>\n",
       "      <th>5896</th>\n",
       "      <td>33493</td>\n",
       "      <td>Star Wars: Episode III - Revenge of the Sith (...</td>\n",
       "      <td>action,adventure,sci-fi</td>\n",
       "    </tr>\n",
       "    <tr>\n",
       "      <th>7583</th>\n",
       "      <td>86286</td>\n",
       "      <td>Daffy Duck's Quackbusters (1988)</td>\n",
       "      <td>animation,children,comedy,horror</td>\n",
       "    </tr>\n",
       "    <tr>\n",
       "      <th>8681</th>\n",
       "      <td>122882</td>\n",
       "      <td>Mad Max: Fury Road (2015)</td>\n",
       "      <td>action,adventure,sci-fi,thriller</td>\n",
       "    </tr>\n",
       "    <tr>\n",
       "      <th>6394</th>\n",
       "      <td>50740</td>\n",
       "      <td>Seven Up! (1964)</td>\n",
       "      <td>documentary</td>\n",
       "    </tr>\n",
       "    <tr>\n",
       "      <th>2898</th>\n",
       "      <td>3879</td>\n",
       "      <td>Art of War, The (2000)</td>\n",
       "      <td>action,thriller</td>\n",
       "    </tr>\n",
       "  </tbody>\n",
       "</table>\n",
       "</div>"
      ],
      "text/plain": [
       "      movieId                                              title  \\\n",
       "2893     3870                                    Our Town (1940)   \n",
       "5896    33493  Star Wars: Episode III - Revenge of the Sith (...   \n",
       "7583    86286                   Daffy Duck's Quackbusters (1988)   \n",
       "8681   122882                          Mad Max: Fury Road (2015)   \n",
       "6394    50740                                   Seven Up! (1964)   \n",
       "2898     3879                             Art of War, The (2000)   \n",
       "\n",
       "                                genres  \n",
       "2893                             drama  \n",
       "5896           action,adventure,sci-fi  \n",
       "7583  animation,children,comedy,horror  \n",
       "8681  action,adventure,sci-fi,thriller  \n",
       "6394                       documentary  \n",
       "2898                   action,thriller  "
      ]
     },
     "execution_count": 635,
     "metadata": {},
     "output_type": "execute_result"
    }
   ],
   "source": [
    "merged_df.iloc[neighbors_tfidf.tolist()[0]]"
   ]
  },
  {
   "cell_type": "markdown",
   "id": "3019ac5a",
   "metadata": {},
   "source": [
    "### Modelling using countvectorizer"
   ]
  },
  {
   "cell_type": "code",
   "execution_count": 636,
   "id": "f447982f",
   "metadata": {},
   "outputs": [],
   "source": [
    "from sklearn.feature_extraction.text import CountVectorizer"
   ]
  },
  {
   "cell_type": "code",
   "execution_count": 637,
   "id": "4cb14db7",
   "metadata": {},
   "outputs": [],
   "source": [
    "count_vector = CountVectorizer(vocabulary=new_cols)\n",
    "count_genere = count_vector.fit_transform(movie_rating_clean['genres'])"
   ]
  },
  {
   "cell_type": "code",
   "execution_count": 638,
   "id": "9e9db0f8",
   "metadata": {},
   "outputs": [
    {
     "data": {
      "text/plain": [
       "array(['drama', 'comedy', 'adventure', 'crime', 'fantasy', 'children',\n",
       "       'mystery', 'horror', 'sci-fi', 'thrillercomedy', 'thrilleraction',\n",
       "       'animation', 'romancecomedy', 'romanceaction', 'thrillerdrama',\n",
       "       'romance', 'dramacomedy', 'dramaaction', 'romancedrama',\n",
       "       'sci-fiaction', 'dramadrama', 'thrilleradventure', 'musical',\n",
       "       'thrillercrime', 'sci-ficomedy', 'thriller', 'romanceadventure',\n",
       "       'comedyaction', 'romancecrime', 'fantasyaction', 'comedycomedy',\n",
       "       'warcomedy', 'thrillerhorror', 'sci-fidrama', 'waraction',\n",
       "       'dramaadventure', 'fantasycomedy', 'fantasydrama', 'wardrama',\n",
       "       'dramacrime', 'film-noir', 'sci-fiadventure', 'crimeaction',\n",
       "       'musicalcomedy', 'thrillerdramacomedy', 'horrorcomedy',\n",
       "       'thrillerdramaaction', 'romanceanimation', 'crimecomedy',\n",
       "       'thrilleranimation', 'romancecomedycomedy', 'imaxaction',\n",
       "       'imaxcomedy', 'romancedramacomedy', 'musicalaction',\n",
       "       'comedyadventure', 'fantasyadventure', 'sci-fihorror',\n",
       "       'thrillerchildren', 'comedydrama'], dtype=object)"
      ]
     },
     "execution_count": 638,
     "metadata": {},
     "output_type": "execute_result"
    }
   ],
   "source": [
    "count_vector.get_feature_names_out()"
   ]
  },
  {
   "cell_type": "code",
   "execution_count": 639,
   "id": "72980881",
   "metadata": {},
   "outputs": [],
   "source": [
    "count_df = pd.DataFrame(count_genere.todense(), columns=count_vector.get_feature_names_out())"
   ]
  },
  {
   "cell_type": "code",
   "execution_count": 640,
   "id": "9eeeaa33",
   "metadata": {},
   "outputs": [
    {
     "data": {
      "text/html": [
       "<style>#sk-container-id-18 {color: black;background-color: white;}#sk-container-id-18 pre{padding: 0;}#sk-container-id-18 div.sk-toggleable {background-color: white;}#sk-container-id-18 label.sk-toggleable__label {cursor: pointer;display: block;width: 100%;margin-bottom: 0;padding: 0.3em;box-sizing: border-box;text-align: center;}#sk-container-id-18 label.sk-toggleable__label-arrow:before {content: \"▸\";float: left;margin-right: 0.25em;color: #696969;}#sk-container-id-18 label.sk-toggleable__label-arrow:hover:before {color: black;}#sk-container-id-18 div.sk-estimator:hover label.sk-toggleable__label-arrow:before {color: black;}#sk-container-id-18 div.sk-toggleable__content {max-height: 0;max-width: 0;overflow: hidden;text-align: left;background-color: #f0f8ff;}#sk-container-id-18 div.sk-toggleable__content pre {margin: 0.2em;color: black;border-radius: 0.25em;background-color: #f0f8ff;}#sk-container-id-18 input.sk-toggleable__control:checked~div.sk-toggleable__content {max-height: 200px;max-width: 100%;overflow: auto;}#sk-container-id-18 input.sk-toggleable__control:checked~label.sk-toggleable__label-arrow:before {content: \"▾\";}#sk-container-id-18 div.sk-estimator input.sk-toggleable__control:checked~label.sk-toggleable__label {background-color: #d4ebff;}#sk-container-id-18 div.sk-label input.sk-toggleable__control:checked~label.sk-toggleable__label {background-color: #d4ebff;}#sk-container-id-18 input.sk-hidden--visually {border: 0;clip: rect(1px 1px 1px 1px);clip: rect(1px, 1px, 1px, 1px);height: 1px;margin: -1px;overflow: hidden;padding: 0;position: absolute;width: 1px;}#sk-container-id-18 div.sk-estimator {font-family: monospace;background-color: #f0f8ff;border: 1px dotted black;border-radius: 0.25em;box-sizing: border-box;margin-bottom: 0.5em;}#sk-container-id-18 div.sk-estimator:hover {background-color: #d4ebff;}#sk-container-id-18 div.sk-parallel-item::after {content: \"\";width: 100%;border-bottom: 1px solid gray;flex-grow: 1;}#sk-container-id-18 div.sk-label:hover label.sk-toggleable__label {background-color: #d4ebff;}#sk-container-id-18 div.sk-serial::before {content: \"\";position: absolute;border-left: 1px solid gray;box-sizing: border-box;top: 0;bottom: 0;left: 50%;z-index: 0;}#sk-container-id-18 div.sk-serial {display: flex;flex-direction: column;align-items: center;background-color: white;padding-right: 0.2em;padding-left: 0.2em;position: relative;}#sk-container-id-18 div.sk-item {position: relative;z-index: 1;}#sk-container-id-18 div.sk-parallel {display: flex;align-items: stretch;justify-content: center;background-color: white;position: relative;}#sk-container-id-18 div.sk-item::before, #sk-container-id-18 div.sk-parallel-item::before {content: \"\";position: absolute;border-left: 1px solid gray;box-sizing: border-box;top: 0;bottom: 0;left: 50%;z-index: -1;}#sk-container-id-18 div.sk-parallel-item {display: flex;flex-direction: column;z-index: 1;position: relative;background-color: white;}#sk-container-id-18 div.sk-parallel-item:first-child::after {align-self: flex-end;width: 50%;}#sk-container-id-18 div.sk-parallel-item:last-child::after {align-self: flex-start;width: 50%;}#sk-container-id-18 div.sk-parallel-item:only-child::after {width: 0;}#sk-container-id-18 div.sk-dashed-wrapped {border: 1px dashed gray;margin: 0 0.4em 0.5em 0.4em;box-sizing: border-box;padding-bottom: 0.4em;background-color: white;}#sk-container-id-18 div.sk-label label {font-family: monospace;font-weight: bold;display: inline-block;line-height: 1.2em;}#sk-container-id-18 div.sk-label-container {text-align: center;}#sk-container-id-18 div.sk-container {/* jupyter's `normalize.less` sets `[hidden] { display: none; }` but bootstrap.min.css set `[hidden] { display: none !important; }` so we also need the `!important` here to be able to override the default hidden behavior on the sphinx rendered scikit-learn.org. See: https://github.com/scikit-learn/scikit-learn/issues/21755 */display: inline-block !important;position: relative;}#sk-container-id-18 div.sk-text-repr-fallback {display: none;}</style><div id=\"sk-container-id-18\" class=\"sk-top-container\"><div class=\"sk-text-repr-fallback\"><pre>NearestNeighbors(metric=&#x27;cosine&#x27;)</pre><b>In a Jupyter environment, please rerun this cell to show the HTML representation or trust the notebook. <br />On GitHub, the HTML representation is unable to render, please try loading this page with nbviewer.org.</b></div><div class=\"sk-container\" hidden><div class=\"sk-item\"><div class=\"sk-estimator sk-toggleable\"><input class=\"sk-toggleable__control sk-hidden--visually\" id=\"sk-estimator-id-18\" type=\"checkbox\" checked><label for=\"sk-estimator-id-18\" class=\"sk-toggleable__label sk-toggleable__label-arrow\">NearestNeighbors</label><div class=\"sk-toggleable__content\"><pre>NearestNeighbors(metric=&#x27;cosine&#x27;)</pre></div></div></div></div></div>"
      ],
      "text/plain": [
       "NearestNeighbors(metric='cosine')"
      ]
     },
     "execution_count": 640,
     "metadata": {},
     "output_type": "execute_result"
    }
   ],
   "source": [
    "nn_algo_count = NearestNeighbors(metric='cosine')\n",
    "nn_algo_count.fit(count_df)"
   ]
  },
  {
   "cell_type": "markdown",
   "id": "21bf8a2c",
   "metadata": {},
   "source": [
    "### Testing 2"
   ]
  },
  {
   "cell_type": "code",
   "execution_count": 649,
   "id": "401d70ac",
   "metadata": {},
   "outputs": [
    {
     "name": "stderr",
     "output_type": "stream",
     "text": [
      "C:\\Users\\sreej\\anaconda3\\lib\\site-packages\\sklearn\\base.py:420: UserWarning: X does not have valid feature names, but NearestNeighbors was fitted with feature names\n",
      "  warnings.warn(\n"
     ]
    }
   ],
   "source": [
    "watched_movie_count = count_df.iloc[418]\n",
    "distance,neighbors_count = nn_algo_count.kneighbors([watched_movie_count],n_neighbors=5+1)"
   ]
  },
  {
   "cell_type": "code",
   "execution_count": 650,
   "id": "a6b998b5",
   "metadata": {},
   "outputs": [
    {
     "data": {
      "text/html": [
       "<div>\n",
       "<style scoped>\n",
       "    .dataframe tbody tr th:only-of-type {\n",
       "        vertical-align: middle;\n",
       "    }\n",
       "\n",
       "    .dataframe tbody tr th {\n",
       "        vertical-align: top;\n",
       "    }\n",
       "\n",
       "    .dataframe thead th {\n",
       "        text-align: right;\n",
       "    }\n",
       "</style>\n",
       "<table border=\"1\" class=\"dataframe\">\n",
       "  <thead>\n",
       "    <tr style=\"text-align: right;\">\n",
       "      <th></th>\n",
       "      <th>movieId</th>\n",
       "      <th>title</th>\n",
       "      <th>genres</th>\n",
       "    </tr>\n",
       "  </thead>\n",
       "  <tbody>\n",
       "    <tr>\n",
       "      <th>2140</th>\n",
       "      <td>2848</td>\n",
       "      <td>Othello (Tragedy of Othello: The Moor of Venic...</td>\n",
       "      <td>drama</td>\n",
       "    </tr>\n",
       "    <tr>\n",
       "      <th>1052</th>\n",
       "      <td>1367</td>\n",
       "      <td>101 Dalmatians (1996)</td>\n",
       "      <td>adventure,children,comedy</td>\n",
       "    </tr>\n",
       "    <tr>\n",
       "      <th>8102</th>\n",
       "      <td>100487</td>\n",
       "      <td>Beautiful Creatures (2013)</td>\n",
       "      <td>drama,fantasy,romance</td>\n",
       "    </tr>\n",
       "    <tr>\n",
       "      <th>1056</th>\n",
       "      <td>1373</td>\n",
       "      <td>Star Trek V: The Final Frontier (1989)</td>\n",
       "      <td>action,sci-fi</td>\n",
       "    </tr>\n",
       "    <tr>\n",
       "      <th>3763</th>\n",
       "      <td>5250</td>\n",
       "      <td>Stir Crazy (1980)</td>\n",
       "      <td>comedy</td>\n",
       "    </tr>\n",
       "    <tr>\n",
       "      <th>9139</th>\n",
       "      <td>147282</td>\n",
       "      <td>What Men Still Talk About (2011)</td>\n",
       "      <td>comedy</td>\n",
       "    </tr>\n",
       "  </tbody>\n",
       "</table>\n",
       "</div>"
      ],
      "text/plain": [
       "      movieId                                              title  \\\n",
       "2140     2848  Othello (Tragedy of Othello: The Moor of Venic...   \n",
       "1052     1367                              101 Dalmatians (1996)   \n",
       "8102   100487                         Beautiful Creatures (2013)   \n",
       "1056     1373             Star Trek V: The Final Frontier (1989)   \n",
       "3763     5250                                  Stir Crazy (1980)   \n",
       "9139   147282                   What Men Still Talk About (2011)   \n",
       "\n",
       "                         genres  \n",
       "2140                      drama  \n",
       "1052  adventure,children,comedy  \n",
       "8102      drama,fantasy,romance  \n",
       "1056              action,sci-fi  \n",
       "3763                     comedy  \n",
       "9139                     comedy  "
      ]
     },
     "execution_count": 650,
     "metadata": {},
     "output_type": "execute_result"
    }
   ],
   "source": [
    "merged_df.iloc[neighbors_count.tolist()[0]]"
   ]
  },
  {
   "cell_type": "code",
   "execution_count": null,
   "id": "6ecb6854",
   "metadata": {},
   "outputs": [],
   "source": []
  }
 ],
 "metadata": {
  "kernelspec": {
   "display_name": "Python 3 (ipykernel)",
   "language": "python",
   "name": "python3"
  },
  "language_info": {
   "codemirror_mode": {
    "name": "ipython",
    "version": 3
   },
   "file_extension": ".py",
   "mimetype": "text/x-python",
   "name": "python",
   "nbconvert_exporter": "python",
   "pygments_lexer": "ipython3",
   "version": "3.10.9"
  }
 },
 "nbformat": 4,
 "nbformat_minor": 5
}
